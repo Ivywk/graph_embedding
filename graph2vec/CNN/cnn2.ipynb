{
 "cells": [
  {
   "cell_type": "code",
   "execution_count": 52,
   "id": "7671b1af",
   "metadata": {},
   "outputs": [],
   "source": [
    "import pathlib\n",
    "import tensorflow as tf\n",
    "from sklearn.metrics import confusion_matrix\n",
    "from sklearn.metrics import classification_report\n",
    "from keras.regularizers import l2\n",
    "import cv2\n",
    "import os\n",
    "import matplotlib.pyplot as plt\n",
    "import numpy as np\n",
    "\n",
    "data_dir = \"/home/pei/Documents/yi_liu/graph2vec/CNN/data_process\"\n",
    "data_dir = pathlib.Path(data_dir)\n",
    "data_dir1 = \"/home/pei/Documents/yi_liu/graph2vec/CNN/data_process/1\"\n",
    "data_dir1 = pathlib.Path(data_dir1)\n",
    "data_dir2 = \"/home/pei/Documents/yi_liu/graph2vec/CNN/data_process/2\"\n",
    "data_dir2 = pathlib.Path(data_dir2)\n",
    "data_dir3 = \"/home/pei/Documents/yi_liu/graph2vec/CNN/data_process/3\"\n",
    "data_dir3 = pathlib.Path(data_dir3)\n",
    "image_count = len(list(data_dir.glob('*/*.png')))\n",
    "image_count1 = len(list(data_dir1.glob('*.png')))\n",
    "image_count2 = len(list(data_dir2.glob('*.png')))\n",
    "image_count3 = len(list(data_dir3.glob('*.png')))\n",
    "\n",
    "list_ds = tf.data.Dataset.list_files(str(data_dir/'*/*'), shuffle=False)\n",
    "list_ds = list_ds.shuffle(image_count, reshuffle_each_iteration=False)\n",
    "list_ds1 = tf.data.Dataset.list_files(str(data_dir1/'*'), shuffle=False)\n",
    "list_ds1 = list_ds1.shuffle(image_count1, reshuffle_each_iteration=False)\n",
    "list_ds2 = tf.data.Dataset.list_files(str(data_dir2/'*'), shuffle=False)\n",
    "list_ds2 = list_ds2.shuffle(image_count2, reshuffle_each_iteration=False)\n",
    "list_ds3 = tf.data.Dataset.list_files(str(data_dir3/'*'), shuffle=False)\n",
    "list_ds3 = list_ds3.shuffle(image_count3, reshuffle_each_iteration=False)\n",
    "# list_ds4 = list_ds1.concatenate(list_ds2)"
   ]
  },
  {
   "cell_type": "code",
   "execution_count": 53,
   "id": "e683e6bb",
   "metadata": {},
   "outputs": [
    {
     "name": "stdout",
     "output_type": "stream",
     "text": [
      "b'/home/pei/Documents/yi_liu/graph2vec/CNN/data_process/1/122_1.png'\n",
      "b'/home/pei/Documents/yi_liu/graph2vec/CNN/data_process/1/1172.png'\n",
      "b'/home/pei/Documents/yi_liu/graph2vec/CNN/data_process/1/1250.png'\n",
      "b'/home/pei/Documents/yi_liu/graph2vec/CNN/data_process/1/22.png'\n",
      "b'/home/pei/Documents/yi_liu/graph2vec/CNN/data_process/1/1020.png'\n",
      "1\n",
      "3\n",
      "2\n",
      "._.DS_Store\n",
      "image2array.py\n",
      ".DS_Store\n",
      "._image2array.py\n",
      "['1' '2' '3']\n"
     ]
    }
   ],
   "source": [
    "for f in list_ds1.take(5):\n",
    "    print(f.numpy())\n",
    "for item in data_dir.glob('*'):\n",
    "    print(item.name)\n",
    "\n",
    "class_names = np.array(sorted([item.name for item in data_dir.glob('*') if len(item.name) == 1]))\n",
    "print(class_names)"
   ]
  },
  {
   "cell_type": "code",
   "execution_count": 54,
   "id": "36768259",
   "metadata": {},
   "outputs": [
    {
     "name": "stdout",
     "output_type": "stream",
     "text": [
      "993\n",
      "248\n"
     ]
    }
   ],
   "source": [
    "batch_size = 26\n",
    "img_height = 250\n",
    "img_width = 250\n",
    "\n",
    "# train_size = int(0.7 * DATASET_SIZE)\n",
    "# val_size = int(0.15 * DATASET_SIZE)\n",
    "# test_size = int(0.15 * DATASET_SIZE)\n",
    "# full_dataset = tf.data.TFRecordDataset(FLAGS.input_file)\n",
    "# full_dataset = full_dataset.shuffle()\n",
    "# train_dataset = full_dataset.take(train_size)\n",
    "# test_dataset = full_dataset.skip(train_size)\n",
    "# val_dataset = test_dataset.skip(val_size)\n",
    "# test_dataset = test_dataset.take(test_size)\n",
    "\n",
    "train_size1 = int(image_count1 * 0.8)\n",
    "train_size2 = int(image_count2 * 0.8)\n",
    "train_size3 = int(image_count3 * 0.8)\n",
    "train_size = train_size1 + train_size2 + train_size3\n",
    "\n",
    "test_size1 = int(image_count1 * 0.2)\n",
    "test_size2 = int(image_count2 * 0.2)\n",
    "test_size3 = int(image_count3 * 0.2)\n",
    "test_size = test_size1 + test_size2 + test_size3\n",
    "\n",
    "val_size1 = int(train_size1 * 0.2)\n",
    "val_size2 = int(train_size2 * 0.2)\n",
    "val_size3 = int(train_size3 * 0.2)\n",
    "val_size = val_size1 + val_size2 + val_size3\n",
    "\n",
    "train_ds1 = list_ds1.take(train_size1)\n",
    "test_ds1 = list_ds1.skip(train_size1)\n",
    "val_ds1 = train_ds1.take(val_size1)\n",
    "train_ds1 = train_ds1.skip(val_size1)\n",
    "\n",
    "train_ds2 = list_ds2.take(train_size2)\n",
    "test_ds2 = list_ds2.skip(train_size2)\n",
    "val_ds2 = train_ds2.take(val_size2)\n",
    "train_ds2 = train_ds2.skip(val_size2)\n",
    "\n",
    "train_ds3 = list_ds3.take(train_size3)\n",
    "test_ds3 = list_ds3.skip(train_size3)\n",
    "val_ds3 = train_ds3.take(val_size3)\n",
    "train_ds3 = train_ds3.skip(val_size3)\n",
    "\n",
    "train_ds = train_ds1.concatenate(train_ds2.concatenate(train_ds3))\n",
    "train_ds = train_ds.shuffle(train_size, reshuffle_each_iteration=False)\n",
    "val_ds = val_ds1.concatenate(val_ds2.concatenate(val_ds3))\n",
    "val_ds = val_ds.shuffle(test_size, reshuffle_each_iteration=False)\n",
    "test_ds = test_ds1.concatenate(test_ds2.concatenate(test_ds3))\n",
    "test_ds = test_ds.shuffle(val_size, reshuffle_each_iteration=False)\n",
    "\n",
    "print(tf.data.experimental.cardinality(train_ds1).numpy())\n",
    "print(tf.data.experimental.cardinality(val_ds1).numpy())"
   ]
  },
  {
   "cell_type": "code",
   "execution_count": 55,
   "id": "e7f08d18",
   "metadata": {},
   "outputs": [
    {
     "name": "stdout",
     "output_type": "stream",
     "text": [
      "Image shape:  (250, 250, 3)\n",
      "Label:  0\n",
      "Image shape:  (250, 250, 3)\n",
      "Label:  1\n",
      "Image shape:  (250, 250, 3)\n",
      "Label:  1\n",
      "Image shape:  (250, 250, 3)\n",
      "Label:  2\n",
      "Image shape:  (250, 250, 3)\n",
      "Label:  0\n"
     ]
    }
   ],
   "source": [
    "def get_label(file_path):\n",
    "  # convert the path to a list of path components\n",
    "  parts = tf.strings.split(file_path, os.path.sep)\n",
    "\n",
    "  # The second to last is the class-directory\n",
    "  one_hot = parts[-2] == class_names\n",
    "  # Integer encode the label\n",
    "  return tf.argmax(one_hot)\n",
    "\n",
    "def decode_img(img):\n",
    "  # convert the compressed string to a 3D uint8 tensor\n",
    "  img = tf.io.decode_jpeg(img, channels=3)\n",
    "  # resize the image to the desired size\n",
    "  return tf.image.resize(img, [img_height, img_width])\n",
    "\n",
    "def process_path(file_path):\n",
    "    label = get_label(file_path)\n",
    "    # load the raw data from the file as a string\n",
    "    img = tf.io.read_file(file_path)\n",
    "    img = decode_img(img)\n",
    "    return img, label\n",
    "\n",
    "def configure_for_performance(ds):\n",
    "    ds = ds.cache()\n",
    "    ds = ds.shuffle(buffer_size=1000)\n",
    "    ds = ds.batch(batch_size)\n",
    "    ds = ds.prefetch(buffer_size=AUTOTUNE)\n",
    "    return ds\n",
    "\n",
    "# Set `num_parallel_calls` so multiple images are loaded/processed in parallel.\n",
    "AUTOTUNE = tf.data.AUTOTUNE\n",
    "train_ds = train_ds.map(process_path, num_parallel_calls=AUTOTUNE)\n",
    "val_ds = val_ds.map(process_path, num_parallel_calls=AUTOTUNE)\n",
    "test_ds = test_ds.map(process_path, num_parallel_calls=AUTOTUNE)\n",
    "\n",
    "for image, label in train_ds.take(5):\n",
    "    print(\"Image shape: \", image.numpy().shape)\n",
    "    print(\"Label: \", label.numpy())\n",
    "\n",
    "train_ds = configure_for_performance(train_ds)\n",
    "val_ds = configure_for_performance(val_ds)\n",
    "test_ds = configure_for_performance(test_ds)"
   ]
  },
  {
   "cell_type": "code",
   "execution_count": 56,
   "id": "fa45490d",
   "metadata": {
    "scrolled": true
   },
   "outputs": [
    {
     "data": {
      "image/png": "[encoded data removed]",
      "text/plain": [
       "<Figure size 720x720 with 9 Axes>"
      ]
     },
     "metadata": {
      "needs_background": "light"
     },
     "output_type": "display_data"
    }
   ],
   "source": [
    "image_batch, label_batch = next(iter(train_ds))\n",
    "\n",
    "plt.figure(figsize=(10, 10))\n",
    "for i in range(9):\n",
    "    ax = plt.subplot(3, 3, i + 1)\n",
    "    plt.imshow(image_batch[i].numpy().astype(\"uint8\"))\n",
    "    label = label_batch[i]\n",
    "    plt.title(class_names[label])\n",
    "    plt.axis(\"off\")"
   ]
  },
  {
   "cell_type": "code",
   "execution_count": 57,
   "id": "5b0e9727",
   "metadata": {},
   "outputs": [],
   "source": [
    "num_classes = 3\n",
    "\n",
    "model = tf.keras.Sequential([\n",
    "  tf.keras.layers.experimental.preprocessing.Rescaling(1./255),\n",
    "  tf.keras.layers.Conv2D(32, 3, activation='relu'),\n",
    "  tf.keras.layers.MaxPooling2D(),\n",
    "  tf.keras.layers.Conv2D(64, 3, activation='relu'),\n",
    "  tf.keras.layers.MaxPooling2D(),\n",
    "  tf.keras.layers.Conv2D(128, 3, activation='relu'),\n",
    "  tf.keras.layers.MaxPooling2D(),\n",
    "  tf.keras.layers.Flatten(),\n",
    "  tf.keras.layers.Dense(64, kernel_regularizer=l2(0.01), activation='relu'),\n",
    "  tf.keras.layers.Dropout(0.5),\n",
    "  tf.keras.layers.Dense(num_classes, kernel_regularizer=l2(0.01), activation='softmax')\n",
    "])"
   ]
  },
  {
   "cell_type": "code",
   "execution_count": 60,
   "id": "49bd8e8e",
   "metadata": {
    "scrolled": true
   },
   "outputs": [
    {
     "name": "stdout",
     "output_type": "stream",
     "text": [
      "Epoch 1/5\n",
      "101/101 [==============================] - 6s 51ms/step - loss: 0.9938 - accuracy: 0.6451 - val_loss: 0.9185 - val_accuracy: 0.7053\n",
      "Epoch 2/5\n",
      "101/101 [==============================] - 203s 2s/step - loss: 0.9549 - accuracy: 0.6809 - val_loss: 0.9504 - val_accuracy: 0.6947\n",
      "Epoch 3/5\n",
      "101/101 [==============================] - 5s 45ms/step - loss: 0.9542 - accuracy: 0.6859 - val_loss: 0.9342 - val_accuracy: 0.7282\n",
      "Epoch 4/5\n",
      "101/101 [==============================] - 5s 45ms/step - loss: 0.9211 - accuracy: 0.7022 - val_loss: 0.9751 - val_accuracy: 0.6947\n",
      "Epoch 5/5\n",
      "101/101 [==============================] - 5s 45ms/step - loss: 0.9242 - accuracy: 0.7091 - val_loss: 0.9238 - val_accuracy: 0.7084\n"
     ]
    }
   ],
   "source": [
    "model.compile(\n",
    "  optimizer='adam',\n",
    "#   loss=tf.losses.SparseCategoricalCrossentropy(from_logits=True),\n",
    "  loss=tf.losses.SparseCategoricalCrossentropy(),\n",
    "  metrics=['accuracy'])\n",
    "\n",
    "history = model.fit(\n",
    "  train_ds,\n",
    "  validation_data = val_ds,\n",
    "  epochs = 5\n",
    ")"
   ]
  },
  {
   "cell_type": "code",
   "execution_count": 61,
   "id": "56ec2917",
   "metadata": {},
   "outputs": [
    {
     "name": "stdout",
     "output_type": "stream",
     "text": [
      "32/32 [==============================] - 1s 17ms/step - loss: 0.9151 - accuracy: 0.6894\n"
     ]
    },
    {
     "data": {
      "text/plain": [
       "'              precision    recall  f1-score   support\\n\\n           0       0.27      0.35      0.30       241\\n           1       0.53      0.34      0.41       445\\n           2       0.12      0.21      0.16       135\\n\\n    accuracy                           0.32       821\\n   macro avg       0.31      0.30      0.29       821\\nweighted avg       0.39      0.32      0.34       821\\n'"
      ]
     },
     "execution_count": 61,
     "metadata": {},
     "output_type": "execute_result"
    }
   ],
   "source": [
    "y_pred = model.predict(test_ds)\n",
    "predicted_categories = tf.argmax(y_pred, axis=1)\n",
    "true_categories = tf.concat([y for x, y in test_ds], axis=0)\n",
    "\n",
    "model.evaluate(test_ds)\n",
    "confusion_matrix(predicted_categories, true_categories)\n",
    "classification_report(predicted_categories, true_categories)"
   ]
  },
  {
   "cell_type": "code",
   "execution_count": null,
   "id": "bbf2f55f",
   "metadata": {},
   "outputs": [],
   "source": []
  }
 ],
 "metadata": {
  "kernelspec": {
   "display_name": "Python 3",
   "language": "python",
   "name": "python3"
  },
  "language_info": {
   "codemirror_mode": {
    "name": "ipython",
    "version": 3
   },
   "file_extension": ".py",
   "mimetype": "text/x-python",
   "name": "python",
   "nbconvert_exporter": "python",
   "pygments_lexer": "ipython3",
   "version": "3.8.5"
  }
 },
 "nbformat": 4,
 "nbformat_minor": 5
}
