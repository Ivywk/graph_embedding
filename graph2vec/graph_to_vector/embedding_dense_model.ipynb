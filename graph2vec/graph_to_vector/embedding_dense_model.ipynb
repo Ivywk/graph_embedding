{
 "cells": [
  {
   "cell_type": "code",
   "execution_count": null,
   "id": "887249a5",
   "metadata": {},
   "outputs": [],
   "source": [
    "import pandas as pd\n",
    "import numpy as np\n",
    "import tensorflow.compat.v1 as tf\n",
    "import matplotlib.pyplot as plt\n",
    "import random\n",
    "from tensorflow.keras.utils import to_categorical\n",
    "tf.disable_v2_behavior() \n",
    "\n",
    "# load data\n",
    "np.set_printoptions(precision=3, suppress=True)\n",
    "df = pd.read_csv(\"../features/nci4.csv\")\n",
    "string = \"x_\"\n",
    "name = [\"type\"]\n",
    "input_size = 128\n",
    "for i in range(input_size):\n",
    "    name.append(string+str(i))\n",
    "data = np.array(df[name])\n",
    "random.shuffle(data)\n",
    "# print(data, len(data))\n",
    "features = data[:,1:]\n",
    "labels = data[:,0]\n",
    "print(labels)\n",
    "labels = [lab-1 for lab in labels]\n",
    "labels = to_categorical(labels, num_classes=3, dtype='float32')\n",
    "# print(labels)\n",
    "\n",
    "# Training, validation, and test\n",
    "split_frac = 0.8\n",
    "split_idx = int(len(features)*split_frac)\n",
    "train_x, val_x = features[:split_idx], features[split_idx:]\n",
    "train_y, val_y = labels[:split_idx], labels[split_idx:]\n",
    "# print(train_x)\n",
    "\n",
    "test_idx = int(len(val_x)*0.5)\n",
    "val_x, test_x = val_x[:test_idx], val_x[test_idx:]\n",
    "val_y, test_y = val_y[:test_idx], val_y[test_idx:]\n",
    "print(test_y)\n",
    "print(\"feature shapes: \\t{}\".format(features.shape))\n",
    "print(\"label shapes: \\t\\t{}\".format(labels.shape))\n",
    "print(\"train set: \\t\\t{}\".format(train_x.shape),train_y.shape)\n",
    "print(\"validation set: \\t{}\".format(val_x.shape), val_y.shape)\n",
    "print(\"test shapes: \\t\\t{}\".format(test_x.shape),test_y.shape)\n",
    "\n",
    "\n",
    "def accuracy(predictions, labels):\n",
    "  return (100.0 * np.sum(np.argmax(predictions, 1) == np.argmax(labels, 1))\n",
    "          / predictions.shape[0])"
   ]
  }
 ],
 "metadata": {
  "kernelspec": {
   "display_name": "Python 3",
   "language": "python",
   "name": "python3"
  },
  "language_info": {
   "codemirror_mode": {
    "name": "ipython",
    "version": 3
   },
   "file_extension": ".py",
   "mimetype": "text/x-python",
   "name": "python",
   "nbconvert_exporter": "python",
   "pygments_lexer": "ipython3",
   "version": "3.8.5"
  }
 },
 "nbformat": 4,
 "nbformat_minor": 5
}
